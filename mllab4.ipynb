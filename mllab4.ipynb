{
 "cells": [
  {
   "cell_type": "code",
   "execution_count": 4,
   "id": "2bd1d0e1",
   "metadata": {},
   "outputs": [
    {
     "name": "stdout",
     "output_type": "stream",
     "text": [
      "Information Gains:\n",
      "age: 0.24674981977443933\n",
      "income: 0.02922256565895487\n",
      "student: 0.15183550136234159\n",
      "credit_rating: 0.04812703040826949\n",
      "first feature for constructing the decision tree is: age\n"
     ]
    }
   ],
   "source": [
    "import pandas as pd\n",
    "import numpy as np\n",
    "data = {\n",
    "    'age': ['<=30', '<=30', '31…40', '>40', '>40', '>40', '31…40', '<=30', '<=30', '>40', '<=30', '31…40', '31…40', '>40'],\n",
    "    'income': ['high', 'high', 'high', 'medium', 'low', 'low', 'low', 'medium', 'low', 'medium', 'medium', 'medium', 'high', 'medium'],\n",
    "    'student': ['no', 'no', 'no', 'no', 'yes', 'yes', 'yes', 'no', 'yes', 'yes', 'yes', 'no', 'yes', 'no'],\n",
    "    'credit_rating': ['fair', 'excellent', 'fair', 'fair', 'fair', 'excellent', 'excellent', 'fair', 'fair', 'fair', 'excellent', 'excellent', 'fair', 'excellent'],\n",
    "    'buys_computer': ['no', 'no', 'yes', 'yes', 'yes', 'no', 'yes', 'no', 'yes', 'yes', 'yes', 'yes', 'yes', 'no']\n",
    "}\n",
    "\n",
    "df = pd.DataFrame(data)\n",
    "def entropy(data):\n",
    "    values, counts = np.unique(data, return_counts=True)\n",
    "    probabilities = counts / counts.sum()\n",
    "    entropy = -np.sum(probabilities * np.log2(probabilities))\n",
    "    return entropy\n",
    "class_entropy = entropy(df['buys_computer'])\n",
    "features = df.columns[:-1] \n",
    "informationgains = {}\n",
    "\n",
    "for feature in features:\n",
    "    weighted_entropy = 0\n",
    "    for value in df[feature].unique():\n",
    "        subset = df[df[feature] == value]\n",
    "        subset_entropy = entropy(subset['buys_computer'])\n",
    "        weight = len(subset) / len(df)\n",
    "        weighted_entropy += weight * subset_entropy\n",
    "    informationgain = class_entropy - weighted_entropy\n",
    "    informationgains[feature] = informationgain\n",
    "\n",
    "root = max(informationgains, key=informationgains.get)\n",
    "\n",
    "print(\"Information Gains:\")\n",
    "for feature, gain in informationgains.items():\n",
    "    print(f\"{feature}: {gain}\")\n",
    "\n",
    "print(f\"first feature for constructing the decision tree is: {root}\")"
   ]
  },
  {
   "cell_type": "code",
   "execution_count": null,
   "id": "2715ee22",
   "metadata": {},
   "outputs": [],
   "source": []
  },
  {
   "cell_type": "code",
   "execution_count": 6,
   "id": "8d717947",
   "metadata": {},
   "outputs": [
    {
     "name": "stdout",
     "output_type": "stream",
     "text": [
      "Tree Depth: 4\n"
     ]
    }
   ],
   "source": [
    "import pandas as pd\n",
    "from sklearn.tree import DecisionTreeClassifier\n",
    "data = {\n",
    "    'age': ['<=30', '<=30', '31…40', '>40', '>40', '>40', '31…40', '<=30', '<=30', '>40', '<=30', '31…40', '31…40', '>40'],\n",
    "    'income': ['high', 'high', 'high', 'medium', 'low', 'low', 'low', 'medium', 'low', 'medium', 'medium', 'medium', 'high', 'medium'],\n",
    "    'student': ['no', 'no', 'no', 'no', 'yes', 'yes', 'yes', 'no', 'yes', 'yes', 'yes', 'no', 'yes', 'no'],\n",
    "    'credit_rating': ['fair', 'excellent', 'fair', 'fair', 'fair', 'excellent', 'excellent', 'fair', 'fair', 'fair', 'excellent', 'excellent', 'fair', 'excellent'],\n",
    "    'buyscomputer': ['no', 'no', 'yes', 'yes', 'yes', 'no', 'yes', 'no', 'yes', 'yes', 'yes', 'yes', 'yes', 'no']\n",
    "}\n",
    "df = pd.DataFrame(data)\n",
    "df2= pd.get_dummies(df, columns=['age', 'income', 'student', 'credit_rating'])\n",
    "X = df2.drop('buyscomputer', axis=1)\n",
    "y = df2['buyscomputer']\n",
    "model = DecisionTreeClassifier()\n",
    "model.fit(X, y)\n",
    "tree_depth = model.get_depth()\n",
    "print(\"Tree Depth:\", tree_depth)\n",
    "\n"
   ]
  },
  {
   "cell_type": "code",
   "execution_count": null,
   "id": "1f8d8ac8",
   "metadata": {},
   "outputs": [],
   "source": []
  }
 ],
 "metadata": {
  "kernelspec": {
   "display_name": "Python 3 (ipykernel)",
   "language": "python",
   "name": "python3"
  },
  "language_info": {
   "codemirror_mode": {
    "name": "ipython",
    "version": 3
   },
   "file_extension": ".py",
   "mimetype": "text/x-python",
   "name": "python",
   "nbconvert_exporter": "python",
   "pygments_lexer": "ipython3",
   "version": "3.11.4"
  }
 },
 "nbformat": 4,
 "nbformat_minor": 5
}
